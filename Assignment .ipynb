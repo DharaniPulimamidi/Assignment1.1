{
 "cells": [
  {
   "cell_type": "code",
   "execution_count": 2,
   "id": "36c214a6",
   "metadata": {},
   "outputs": [
    {
     "name": "stdout",
     "output_type": "stream",
     "text": [
      "ntyP\n"
     ]
    }
   ],
   "source": [
    "str=list(\"Python\")\n",
    "str=[x for x in str if x not in ('o','h')]\n",
    "str = str[::-1]\n",
    "print(\"\".join(str))"
   ]
  }
 ],
 "metadata": {
  "kernelspec": {
   "display_name": "Python 3 (ipykernel)",
   "language": "python",
   "name": "python3"
  },
  "language_info": {
   "codemirror_mode": {
    "name": "ipython",
    "version": 3
   },
   "file_extension": ".py",
   "mimetype": "text/x-python",
   "name": "python",
   "nbconvert_exporter": "python",
   "pygments_lexer": "ipython3",
   "version": "3.11.1"
  }
 },
 "nbformat": 4,
 "nbformat_minor": 5
}
